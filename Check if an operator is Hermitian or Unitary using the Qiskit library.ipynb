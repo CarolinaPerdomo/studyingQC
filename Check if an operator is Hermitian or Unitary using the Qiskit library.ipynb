{
 "cells": [
  {
   "cell_type": "code",
   "execution_count": 1,
   "id": "3090321c",
   "metadata": {},
   "outputs": [],
   "source": [
    "# Importing libraries:\n",
    "import numpy as np\n",
    "from qiskit import QuantumCircuit\n",
    "from qiskit.quantum_info import Operator"
   ]
  },
  {
   "cell_type": "code",
   "execution_count": 2,
   "id": "026c16e8",
   "metadata": {},
   "outputs": [],
   "source": [
    "# Define the operator\n",
    "theta = np.pi/4\n",
    "\n",
    "# Using the Operator class from the qiskit.quantum_info module to define a quantum operator:\n",
    "operator = Operator([\n",
    "    [np.cos(theta), 0, 0, -1j*np.sin(theta)],\n",
    "    [0, np.cos(theta), -1j*np.sin(theta), 0],\n",
    "    [0, -1j*np.sin(theta), np.cos(theta), 0],\n",
    "    [-1j*np.sin(theta), 0, 0, np.cos(theta)]\n",
    "])"
   ]
  },
  {
   "cell_type": "code",
   "execution_count": 3,
   "id": "86ebe7aa",
   "metadata": {},
   "outputs": [],
   "source": [
    "# Check if the operator is Hermitian\n",
    "is_hermitian = operator == operator.adjoint() # Adjoint() method of the Operator class to find its Hermitian adjoint."
   ]
  },
  {
   "cell_type": "code",
   "execution_count": 4,
   "id": "58f5ac8c",
   "metadata": {},
   "outputs": [
    {
     "name": "stdout",
     "output_type": "stream",
     "text": [
      "The operator is not Hermitian.\n"
     ]
    }
   ],
   "source": [
    "# Print the result\n",
    "if is_hermitian:\n",
    "    print(\"The operator is Hermitian.\")\n",
    "else:\n",
    "    print(\"The operator is not Hermitian.\")"
   ]
  },
  {
   "cell_type": "code",
   "execution_count": 5,
   "id": "37b04156",
   "metadata": {},
   "outputs": [],
   "source": [
    "# Another example:\n",
    "matrix = Operator([[1, 2+1j], [2-1j, 3]])"
   ]
  },
  {
   "cell_type": "code",
   "execution_count": 6,
   "id": "5da8dae7",
   "metadata": {},
   "outputs": [
    {
     "name": "stdout",
     "output_type": "stream",
     "text": [
      "The operator is Hermitian.\n"
     ]
    }
   ],
   "source": [
    "# Print the result\n",
    "if matrix:\n",
    "    print(\"The operator is Hermitian.\")\n",
    "else:\n",
    "    print(\"The operator is not Hermitian.\")"
   ]
  },
  {
   "cell_type": "code",
   "execution_count": 7,
   "id": "2dde5b18",
   "metadata": {},
   "outputs": [],
   "source": [
    "# Define the operator for check unitary:\n",
    "operatorUnitary = Operator([[1, 0], [0, -1]])"
   ]
  },
  {
   "cell_type": "code",
   "execution_count": 10,
   "id": "2a1383e9",
   "metadata": {},
   "outputs": [
    {
     "name": "stdout",
     "output_type": "stream",
     "text": [
      "Is the operator unitary? True\n"
     ]
    }
   ],
   "source": [
    "# Check if the operator is unitary\n",
    "is_unitary = operatorUnitary.is_unitary() # is_unitary() method of the Operator object\n",
    "\n",
    "print(\"Is the operator unitary?\", is_unitary)"
   ]
  },
  {
   "cell_type": "code",
   "execution_count": null,
   "id": "72dbc7a9",
   "metadata": {},
   "outputs": [],
   "source": []
  }
 ],
 "metadata": {
  "kernelspec": {
   "display_name": "Python 3 (ipykernel)",
   "language": "python",
   "name": "python3"
  },
  "language_info": {
   "codemirror_mode": {
    "name": "ipython",
    "version": 3
   },
   "file_extension": ".py",
   "mimetype": "text/x-python",
   "name": "python",
   "nbconvert_exporter": "python",
   "pygments_lexer": "ipython3",
   "version": "3.10.7"
  }
 },
 "nbformat": 4,
 "nbformat_minor": 5
}
